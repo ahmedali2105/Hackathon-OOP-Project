{
 "cells": [
  {
   "cell_type": "code",
   "execution_count": 6,
   "id": "116f0aa7-0df5-45f7-867a-efc7b0ac5531",
   "metadata": {},
   "outputs": [
    {
     "name": "stdout",
     "output_type": "stream",
     "text": [
      "\n",
      "1. Open Account\n",
      "2. Deposit\n",
      "3. Withdraw\n",
      "4. Check Balance\n",
      "5. Transfer\n",
      "6. View Statement\n",
      "7. Admin: Total Deposits\n",
      "8. Admin: Total Accounts\n",
      "9. Exit\n"
     ]
    },
    {
     "name": "stdin",
     "output_type": "stream",
     "text": [
      "Enter your choice:  1\n",
      "Enter account holder name:  Syed Ahmed Ali\n"
     ]
    },
    {
     "name": "stdout",
     "output_type": "stream",
     "text": [
      "Account created successfully. Account number: 1\n",
      "\n",
      "1. Open Account\n",
      "2. Deposit\n",
      "3. Withdraw\n",
      "4. Check Balance\n",
      "5. Transfer\n",
      "6. View Statement\n",
      "7. Admin: Total Deposits\n",
      "8. Admin: Total Accounts\n",
      "9. Exit\n"
     ]
    },
    {
     "name": "stdin",
     "output_type": "stream",
     "text": [
      "Enter your choice:  2]\n"
     ]
    },
    {
     "name": "stdout",
     "output_type": "stream",
     "text": [
      "Invalid choice. Please try again.\n",
      "\n",
      "1. Open Account\n",
      "2. Deposit\n",
      "3. Withdraw\n",
      "4. Check Balance\n",
      "5. Transfer\n",
      "6. View Statement\n",
      "7. Admin: Total Deposits\n",
      "8. Admin: Total Accounts\n",
      "9. Exit\n"
     ]
    },
    {
     "name": "stdin",
     "output_type": "stream",
     "text": [
      "Enter your choice:  2\n",
      "Enter account number:  1\n",
      "Enter deposit amount:  70000\n"
     ]
    },
    {
     "name": "stdout",
     "output_type": "stream",
     "text": [
      "Deposited Rs70000.0. New balance: Rs70000.0\n",
      "\n",
      "1. Open Account\n",
      "2. Deposit\n",
      "3. Withdraw\n",
      "4. Check Balance\n",
      "5. Transfer\n",
      "6. View Statement\n",
      "7. Admin: Total Deposits\n",
      "8. Admin: Total Accounts\n",
      "9. Exit\n"
     ]
    },
    {
     "name": "stdin",
     "output_type": "stream",
     "text": [
      "Enter your choice:  3\n",
      "Enter account number:  1\n",
      "Enter withdrawal amount:  50000\n"
     ]
    },
    {
     "name": "stdout",
     "output_type": "stream",
     "text": [
      "Withdrawn Rs50000.0. New balance: Rs20000.0\n",
      "\n",
      "1. Open Account\n",
      "2. Deposit\n",
      "3. Withdraw\n",
      "4. Check Balance\n",
      "5. Transfer\n",
      "6. View Statement\n",
      "7. Admin: Total Deposits\n",
      "8. Admin: Total Accounts\n",
      "9. Exit\n"
     ]
    },
    {
     "name": "stdin",
     "output_type": "stream",
     "text": [
      "Enter your choice:  4\n",
      "Enter account number:  1\n"
     ]
    },
    {
     "name": "stdout",
     "output_type": "stream",
     "text": [
      "Current balance: $20000.0\n",
      "\n",
      "1. Open Account\n",
      "2. Deposit\n",
      "3. Withdraw\n",
      "4. Check Balance\n",
      "5. Transfer\n",
      "6. View Statement\n",
      "7. Admin: Total Deposits\n",
      "8. Admin: Total Accounts\n",
      "9. Exit\n"
     ]
    },
    {
     "name": "stdin",
     "output_type": "stream",
     "text": [
      "Enter your choice:  5\n",
      "Enter sender account number:  3\n",
      "Enter receiver account number:  2\n",
      "Enter transfer amount:  5000\n"
     ]
    },
    {
     "name": "stdout",
     "output_type": "stream",
     "text": [
      "Invalid account numbers.\n",
      "\n",
      "1. Open Account\n",
      "2. Deposit\n",
      "3. Withdraw\n",
      "4. Check Balance\n",
      "5. Transfer\n",
      "6. View Statement\n",
      "7. Admin: Total Deposits\n",
      "8. Admin: Total Accounts\n",
      "9. Exit\n"
     ]
    },
    {
     "name": "stdin",
     "output_type": "stream",
     "text": [
      "Enter your choice:  6\n",
      "Enter account number:  1\n"
     ]
    },
    {
     "name": "stdout",
     "output_type": "stream",
     "text": [
      "Transaction History for Account 1:\n",
      "2025-01-10 23:17:25.180771: Deposited: Rs70000.0\n",
      "2025-01-10 23:17:49.974641: Withdrawn: Rs50000.0\n",
      "\n",
      "1. Open Account\n",
      "2. Deposit\n",
      "3. Withdraw\n",
      "4. Check Balance\n",
      "5. Transfer\n",
      "6. View Statement\n",
      "7. Admin: Total Deposits\n",
      "8. Admin: Total Accounts\n",
      "9. Exit\n"
     ]
    },
    {
     "name": "stdin",
     "output_type": "stream",
     "text": [
      "Enter your choice:  7\n"
     ]
    },
    {
     "name": "stdout",
     "output_type": "stream",
     "text": [
      "Total deposits: $20000.0\n",
      "\n",
      "1. Open Account\n",
      "2. Deposit\n",
      "3. Withdraw\n",
      "4. Check Balance\n",
      "5. Transfer\n",
      "6. View Statement\n",
      "7. Admin: Total Deposits\n",
      "8. Admin: Total Accounts\n",
      "9. Exit\n"
     ]
    },
    {
     "name": "stdin",
     "output_type": "stream",
     "text": [
      "Enter your choice:  8\n"
     ]
    },
    {
     "name": "stdout",
     "output_type": "stream",
     "text": [
      "Total accounts: 1\n",
      "\n",
      "1. Open Account\n",
      "2. Deposit\n",
      "3. Withdraw\n",
      "4. Check Balance\n",
      "5. Transfer\n",
      "6. View Statement\n",
      "7. Admin: Total Deposits\n",
      "8. Admin: Total Accounts\n",
      "9. Exit\n"
     ]
    },
    {
     "name": "stdin",
     "output_type": "stream",
     "text": [
      "Enter your choice:  9\n"
     ]
    }
   ],
   "source": [
    "import datetime\n",
    "\n",
    "class BankAccount:\n",
    "    def __init__(self, account_number, account_holder):\n",
    "        self.account_number = account_number\n",
    "        self.account_holder = account_holder\n",
    "        self.balance = 0.0\n",
    "        self.transactions = []\n",
    "\n",
    "    def deposit(self, amount):\n",
    "        \"\"\"Deposits money into the account.\"\"\"\n",
    "        if amount > 0:\n",
    "            self.balance += amount\n",
    "            self.add_transaction(f\"Deposited: Rs{amount}\")\n",
    "            print(f\"Deposited Rs{amount}. New balance: Rs{self.balance}\")\n",
    "        else:\n",
    "            print(\"Invalid deposit amount.\")\n",
    "\n",
    "    def withdraw(self, amount):\n",
    "        \"\"\"Withdraws money from the account.\"\"\"\n",
    "        if amount > 0 and amount <= self.balance:\n",
    "            self.balance -= amount\n",
    "            self.add_transaction(f\"Withdrawn: Rs{amount}\")\n",
    "            print(f\"Withdrawn Rs{amount}. New balance: Rs{self.balance}\")\n",
    "        else:\n",
    "            print(\"Insufficient funds.\")\n",
    "\n",
    "    def check_balance(self):\n",
    "        \"\"\"Returns the current account balance.\"\"\"\n",
    "        return self.balance\n",
    "\n",
    "    def add_transaction(self, description):\n",
    "        \"\"\"Adds a transaction to the transaction history.\"\"\"\n",
    "        timestamp = datetime.datetime.now()\n",
    "        self.transactions.append(f\"{timestamp}: {description}\")\n",
    "\n",
    "    def print_statement(self):\n",
    "        \"\"\"Prints a detailed statement of all transactions.\"\"\"\n",
    "        print(f\"Transaction History for Account {self.account_number}:\")\n",
    "        for transaction in self.transactions:\n",
    "            print(transaction)\n",
    "\n",
    "class Bank:\n",
    "    def __init__(self):\n",
    "        self.accounts = {}  # Dictionary to store accounts by account number\n",
    "\n",
    "    def open_account(self, account_holder):\n",
    "        \"\"\"Creates a new account for the specified account holder.\"\"\"\n",
    "        account_number = len(self.accounts) + 1  # Simple account numbering\n",
    "        new_account = BankAccount(account_number, account_holder)\n",
    "        self.accounts[account_number] = new_account\n",
    "        print(f\"Account created successfully. Account number: {account_number}\")\n",
    "        return new_account\n",
    "\n",
    "    def get_account(self, account_number):\n",
    "        \"\"\"Retrieves an account object using its account number.\"\"\"\n",
    "        return self.accounts.get(account_number)\n",
    "\n",
    "    def transfer(self, sender_account_number, receiver_account_number, amount):\n",
    "        \"\"\"Transfers money between two accounts.\"\"\"\n",
    "        sender_account = self.get_account(sender_account_number)\n",
    "        receiver_account = self.get_account(receiver_account_number)\n",
    "\n",
    "        if sender_account and receiver_account:\n",
    "            if sender_account.withdraw(amount):\n",
    "                receiver_account.deposit(amount)\n",
    "                sender_account.add_transaction(f\"Transferred Rs{amount} to Account {receiver_account_number}\")\n",
    "                receiver_account.add_transaction(f\"Received Rs{amount} from Account {sender_account_number}\")\n",
    "        else:\n",
    "            print(\"Invalid account numbers.\")\n",
    "\n",
    "    def admin_check_total_deposit(self):\n",
    "        \"\"\"Returns the total balance of all accounts in the bank.\"\"\"\n",
    "        total_deposit = 0\n",
    "        for account in self.accounts.values():\n",
    "            total_deposit += account.balance\n",
    "        return total_deposit\n",
    "\n",
    "    def admin_check_total_accounts(self):\n",
    "        \"\"\"Returns the total number of accounts in the bank.\"\"\"\n",
    "        return len(self.accounts)\n",
    "if __name__ == \"__main__\":\n",
    "    my_bank = Bank()\n",
    "\n",
    "    while True:\n",
    "        print(\"\\n1. Open Account\")\n",
    "        print(\"2. Deposit\")\n",
    "        print(\"3. Withdraw\")\n",
    "        print(\"4. Check Balance\")\n",
    "        print(\"5. Transfer\")\n",
    "        print(\"6. View Statement\")\n",
    "        print(\"7. Admin: Total Deposits\")\n",
    "        print(\"8. Admin: Total Accounts\")\n",
    "        print(\"9. Exit\")\n",
    "        choice = input(\"Enter your choice: \")\n",
    "\n",
    "        if choice == '1':\n",
    "            account_holder = input(\"Enter account holder name: \")\n",
    "            my_bank.open_account(account_holder)\n",
    "        elif choice == '2':\n",
    "            account_number = int(input(\"Enter account number: \"))\n",
    "            amount = float(input(\"Enter deposit amount: \"))\n",
    "            account = my_bank.get_account(account_number)\n",
    "            if account:\n",
    "                account.deposit(amount)\n",
    "            else:\n",
    "                print(\"Invalid account number.\")\n",
    "        elif choice == '3':\n",
    "            account_number = int(input(\"Enter account number: \"))\n",
    "            amount = float(input(\"Enter withdrawal amount: \"))\n",
    "            account = my_bank.get_account(account_number)\n",
    "            if account:\n",
    "                account.withdraw(amount)\n",
    "            else:\n",
    "                print(\"Invalid account number.\")\n",
    "        elif choice == '4':\n",
    "            account_number = int(input(\"Enter account number: \"))\n",
    "            account = my_bank.get_account(account_number)\n",
    "            if account:\n",
    "                print(f\"Current balance: ${account.check_balance()}\")\n",
    "            else:\n",
    "                print(\"Invalid account number.\")\n",
    "        elif choice == '5':\n",
    "            sender_account = int(input(\"Enter sender account number: \"))\n",
    "            receiver_account = int(input(\"Enter receiver account number: \"))\n",
    "            amount = float(input(\"Enter transfer amount: \"))\n",
    "            my_bank.transfer(sender_account, receiver_account, amount)\n",
    "        elif choice == '6':\n",
    "            account_number = int(input(\"Enter account number: \"))\n",
    "            account = my_bank.get_account(account_number)\n",
    "            if account:\n",
    "                account.print_statement()\n",
    "            else:\n",
    "                print(\"Invalid account number.\")\n",
    "        elif choice == '7':\n",
    "            print(f\"Total deposits: ${my_bank.admin_check_total_deposit()}\")\n",
    "        elif choice == '8':\n",
    "            print(f\"Total accounts: {my_bank.admin_check_total_accounts()}\")\n",
    "        elif choice == '9':\n",
    "            break\n",
    "        else:\n",
    "            print(\"Invalid choice. Please try again.\")9\n"
   ]
  },
  {
   "cell_type": "code",
   "execution_count": null,
   "id": "627afbca-fe2d-4369-951e-4f9b2fa203f9",
   "metadata": {},
   "outputs": [],
   "source": []
  }
 ],
 "metadata": {
  "kernelspec": {
   "display_name": "Python 3 (ipykernel)",
   "language": "python",
   "name": "python3"
  },
  "language_info": {
   "codemirror_mode": {
    "name": "ipython",
    "version": 3
   },
   "file_extension": ".py",
   "mimetype": "text/x-python",
   "name": "python",
   "nbconvert_exporter": "python",
   "pygments_lexer": "ipython3",
   "version": "3.12.7"
  }
 },
 "nbformat": 4,
 "nbformat_minor": 5
}
